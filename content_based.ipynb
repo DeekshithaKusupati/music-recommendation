{
 "cells": [
  {
   "cell_type": "code",
   "execution_count": 1,
   "metadata": {},
   "outputs": [
    {
     "name": "stdout",
     "output_type": "stream",
     "text": [
      "57650\n"
     ]
    }
   ],
   "source": [
    "import pandas as pd\n",
    "from sklearn.feature_extraction.text import TfidfVectorizer\n",
    "songs = pd.read_csv('abcdata.csv')\n",
    "songs.head()\n",
    "print(len(songs))"
   ]
  },
  {
   "cell_type": "code",
   "execution_count": 2,
   "metadata": {},
   "outputs": [
    {
     "name": "stderr",
     "output_type": "stream",
     "text": [
      "<ipython-input-2-083f768d2c35>:2: FutureWarning: The default value of regex will change from True to False in a future version.\n",
      "  songs['text'] = songs['text'].str.replace(r'\\n', '')\n"
     ]
    }
   ],
   "source": [
    "songs = songs.sample(n=5000).drop('link', axis=1).reset_index(drop=True)\n",
    "songs['text'] = songs['text'].str.replace(r'\\n', '')\n",
    "tfidf = TfidfVectorizer(analyzer='word', stop_words='english')\n",
    "tfidf_matrix = tfidf.fit_transform(songs['text'])"
   ]
  },
  {
   "cell_type": "code",
   "execution_count": 3,
   "metadata": {},
   "outputs": [],
   "source": [
    "from sklearn.metrics.pairwise import cosine_similarity\n",
    "cosine_similarities = cosine_similarity(tfidf_matrix) \n",
    "\n",
    "similarities = {}\n",
    "for i in range(len(cosine_similarities)):\n",
    "    similar_indices = cosine_similarities[i].argsort()[:-50:-1] \n",
    "    similarities[songs['song'].iloc[i]] = [(cosine_similarities[i][x], songs['song'][x], \n",
    "                                           songs['artist'][x]) for x in similar_indices][1:]"
   ]
  },
  {
   "cell_type": "code",
   "execution_count": 4,
   "metadata": {},
   "outputs": [
    {
     "data": {
      "text/plain": [
       "(5000, 25004)"
      ]
     },
     "execution_count": 4,
     "metadata": {},
     "output_type": "execute_result"
    }
   ],
   "source": [
    "tfidf_matrix.shape"
   ]
  },
  {
   "cell_type": "code",
   "execution_count": 5,
   "metadata": {},
   "outputs": [
    {
     "data": {
      "text/plain": [
       "(5000, 5000)"
      ]
     },
     "execution_count": 5,
     "metadata": {},
     "output_type": "execute_result"
    }
   ],
   "source": [
    "cosine_similarities.shape"
   ]
  },
  {
   "cell_type": "code",
   "execution_count": 6,
   "metadata": {},
   "outputs": [],
   "source": [
    "class ContentBasedRecommender:\n",
    "    def __init__(self, matrix):\n",
    "        self.matrix_similar = matrix\n",
    "    def _print_message(self, song, recom_song):\n",
    "        rec_items = len(recom_song)       \n",
    "        print(f'The {rec_items} recommended songs for {song} are:')\n",
    "        for i in range(rec_items):\n",
    "            print(f\"Number {i+1}:\")\n",
    "            print(f\"{recom_song[i][1]} by {recom_song[i][2]} with {round(recom_song[i][0], 3)} similarity score\") \n",
    "            print(\"--------------------\") \n",
    "    def recommend(self, recommendation):\n",
    "            # Get song to find recommendations for\n",
    "            song = recommendation['song']\n",
    "            # Get number of songs to recommend\n",
    "            number_songs = recommendation['number_songs']\n",
    "            # Get the number of songs most similars from matrix similarities\n",
    "            recom_song = self.matrix_similar[song][:number_songs]\n",
    "            # print each item\n",
    "            self._print_message(song=song, recom_song=recom_song)"
   ]
  },
  {
   "cell_type": "code",
   "execution_count": 7,
   "metadata": {},
   "outputs": [],
   "source": [
    "recommedations = ContentBasedRecommender(similarities)"
   ]
  },
  {
   "cell_type": "code",
   "execution_count": 8,
   "metadata": {},
   "outputs": [],
   "source": [
    "recommendation = {\n",
    "    \"song\": songs['song'].iloc[120],\n",
    "    \"number_songs\": 15\n",
    "}"
   ]
  },
  {
   "cell_type": "code",
   "execution_count": 9,
   "metadata": {},
   "outputs": [
    {
     "name": "stdout",
     "output_type": "stream",
     "text": [
      "The 15 recommended songs for For The Love Of A Daughter are:\n",
      "Number 1:\n",
      "Father Time by Bon Jovi with 0.498 similarity score\n",
      "--------------------\n",
      "Number 2:\n",
      "Return Of The Farmer's Son by Thin Lizzy with 0.351 similarity score\n",
      "--------------------\n",
      "Number 3:\n",
      "Heat by David Bowie with 0.291 similarity score\n",
      "--------------------\n",
      "Number 4:\n",
      "Your Father And I by Beautiful South with 0.234 similarity score\n",
      "--------------------\n",
      "Number 5:\n",
      "Single Father by Kid Rock with 0.229 similarity score\n",
      "--------------------\n",
      "Number 6:\n",
      "Number In The Book by Lucky Dube with 0.224 similarity score\n",
      "--------------------\n",
      "Number 7:\n",
      "Go Rest High On That Mountain by Religious Music with 0.22 similarity score\n",
      "--------------------\n",
      "Number 8:\n",
      "From God Above by Hillsong United with 0.217 similarity score\n",
      "--------------------\n",
      "Number 9:\n",
      "My Father's Song by Ray Boltz with 0.207 similarity score\n",
      "--------------------\n",
      "Number 10:\n",
      "It's All Gone by Chris Rea with 0.206 similarity score\n",
      "--------------------\n",
      "Number 11:\n",
      "Our Decades In The Sun by Nightwish with 0.196 similarity score\n",
      "--------------------\n",
      "Number 12:\n",
      "Love by Bruno Mars with 0.187 similarity score\n",
      "--------------------\n",
      "Number 13:\n",
      "Love It, Love It by Luther Vandross with 0.186 similarity score\n",
      "--------------------\n",
      "Number 14:\n",
      "Love Was Born On Christmas Day by Regine Velasquez with 0.186 similarity score\n",
      "--------------------\n",
      "Number 15:\n",
      "Believe by Elton John with 0.184 similarity score\n",
      "--------------------\n"
     ]
    }
   ],
   "source": [
    "recommedations.recommend(recommendation)"
   ]
  },
  {
   "cell_type": "code",
   "execution_count": null,
   "metadata": {},
   "outputs": [],
   "source": []
  }
 ],
 "metadata": {
  "kernelspec": {
   "display_name": "Python 3",
   "language": "python",
   "name": "python3"
  },
  "language_info": {
   "codemirror_mode": {
    "name": "ipython",
    "version": 3
   },
   "file_extension": ".py",
   "mimetype": "text/x-python",
   "name": "python",
   "nbconvert_exporter": "python",
   "pygments_lexer": "ipython3",
   "version": "3.9.4"
  }
 },
 "nbformat": 4,
 "nbformat_minor": 4
}
